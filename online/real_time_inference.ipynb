{
 "cells": [
  {
   "cell_type": "code",
   "execution_count": null,
   "id": "18fbe84c-3b7a-4128-aace-b5008f77f3af",
   "metadata": {},
   "outputs": [],
   "source": []
  }
 ],
 "metadata": {
  "kernelspec": {
   "display_name": "",
   "name": ""
  },
  "language_info": {
   "name": ""
  }
 },
 "nbformat": 4,
 "nbformat_minor": 5
}
